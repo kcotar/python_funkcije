{
 "cells": [
  {
   "cell_type": "markdown",
   "metadata": {},
   "source": [
    "# Python osnovne funkcionalnosti"
   ]
  },
  {
   "cell_type": "code",
   "execution_count": 78,
   "metadata": {
    "collapsed": true
   },
   "outputs": [],
   "source": [
    "# uvoz knjižnic\n",
    "import numpy as np\n",
    "import matplotlib.pyplot as plt\n",
    "import pandas as pd\n",
    "from datetime import datetime, timedelta\n",
    "import os"
   ]
  },
  {
   "cell_type": "markdown",
   "metadata": {},
   "source": [
    "Knjižnice lahko uvozimo na več načinov, glede na to se razlikuje tudi njihova uporaba. Primer na funkciji sin iz knjižnice math.\n",
    "\n",
    "kot = 3.14\n",
    "\n",
    "import math   # uvoz knjižnice\n",
    "math.sin(kot)   # uporaba funkcije v tem primeru\n",
    "\n",
    "import math as mth\n",
    "mth.sin(kot)\n",
    "\n",
    "from math import *   # izobaj se tega načina\n",
    "from math import sin   # uvozi le funkcijo sin iz knjižnice math\n",
    "sin(kot)"
   ]
  },
  {
   "cell_type": "code",
   "execution_count": 4,
   "metadata": {
    "collapsed": true
   },
   "outputs": [],
   "source": [
    "# definicija funkcije, pazi na odmike\n",
    "def eksponent(x, e=1):\n",
    "    rezultat = x**e\n",
    "    return rezultat"
   ]
  },
  {
   "cell_type": "code",
   "execution_count": 73,
   "metadata": {
    "collapsed": false
   },
   "outputs": [
    {
     "name": "stdout",
     "output_type": "stream",
     "text": [
      "5\n",
      "125\n",
      "125\n"
     ]
    }
   ],
   "source": [
    "# uporaba definirane funkcije\n",
    "print eksponent(5)\n",
    "print eksponent(5, 3)\n",
    "print eksponent(5, e=3)"
   ]
  },
  {
   "cell_type": "code",
   "execution_count": 79,
   "metadata": {
    "collapsed": false
   },
   "outputs": [
    {
     "name": "stdout",
     "output_type": "stream",
     "text": [
      "/home/klemen/Desktop\n"
     ]
    }
   ],
   "source": [
    "# pridobitev delovne mape\n",
    "root = os.getcwd()\n",
    "print root\n",
    "\n",
    "# nastavljanje delovne mape\n",
    "os.chdir(root)"
   ]
  },
  {
   "cell_type": "code",
   "execution_count": 86,
   "metadata": {
    "collapsed": false
   },
   "outputs": [
    {
     "name": "stdout",
     "output_type": "stream",
     "text": [
      "data.tif\n",
      "data\n"
     ]
    },
    {
     "data": {
      "text/plain": [
       "'C:/windows/temp'"
      ]
     },
     "execution_count": 86,
     "metadata": {},
     "output_type": "execute_result"
    }
   ],
   "source": [
    "path = 'C:/windows/temp/data.tif'\n",
    "\n",
    "# ime datoteke\n",
    "filename = os.path.basename(path)\n",
    "print filename\n",
    "#odstrani še končnico\n",
    "filename = os.path.splitext(filename)[0]\n",
    "print filename\n",
    "\n",
    "# pot\n",
    "os.path.dirname(path)"
   ]
  },
  {
   "cell_type": "code",
   "execution_count": 77,
   "metadata": {
    "collapsed": false
   },
   "outputs": [
    {
     "name": "stdout",
     "output_type": "stream",
     "text": [
      "[1, 2, 3, 4, 5, 6, 7, 8, 9, 10]\n",
      "[1, 2, 3, 4, 5, 6, 7, 8, 9, 10]\n",
      "[1, 2, 3, 4, 5, 6, 7, 8, 9, 10]\n"
     ]
    }
   ],
   "source": [
    "# eksplicitno izvajanje zank\n",
    "d = []\n",
    "for i in range(1,11):\n",
    "    d.append(i)\n",
    "print d\n",
    "\n",
    "# se na krajši in bolj efektiven način zapiše kot\n",
    "f = [i for i in range(1,11)]\n",
    "print f\n",
    "\n",
    "# ker pa je primer rahlo neumen pa je še boljše\n",
    "g = range(1,11)\n",
    "print g"
   ]
  },
  {
   "cell_type": "code",
   "execution_count": 71,
   "metadata": {
    "collapsed": false
   },
   "outputs": [
    {
     "name": "stdout",
     "output_type": "stream",
     "text": [
      "#Plot-x   maize   wheat   barley   oil-pumpkin   rapeseed   triticale\r\n",
      "\n",
      "2013-04-11       0.386939      0.426478      0.437544      0.558278      0.412477      0.368806\r\n",
      "\n",
      "2013-05-18       0.269430      0.886469      0.806423      0.148540      0.843133      0.906903\r\n",
      "\n",
      "2013-06-15       0.566359      0.804668      0.505404      0.315171      0.737747      0.187881\r\n",
      "\n",
      "2013-07-02       0.796561      0.479092      0.304606      0.378239      0.446004      0.347323\r\n",
      "\n",
      "2013-07-29       0.739612      0.192265      0.189521      0.514529      0.205573      0.334568\r\n",
      "\n",
      "2013-08-18       0.562305      0.199794      0.333703      0.486986      0.404198      0.520548\r\n",
      "\n",
      "2013-09-14       0.470556      0.248142      0.413586      0.342028      0.581292      0.740270\r\n",
      "\n",
      "2013-10-08       0.310769      0.513812      0.541597      0.251546      0.576223      0.586223\r\n",
      "\n",
      "2013-10-26       0.399296      0.779830      0.682235      0.797404      0.686735      0.309336\r\n",
      "\n"
     ]
    }
   ],
   "source": [
    "# branje tekstovnih datotek\n",
    "txt_file = open('ndvi.txt', 'r') # možni načini, r - branje, w - pisanje nove, a - dodajanje, r+ - branje in pisanje\n",
    "# beri posamezne vrstice\n",
    "for line in txt_file:\n",
    "    print line\n",
    "# preberi vse vrstice naenkrat\n",
    "#txt = txt_file.read()\n",
    "#print txt\n",
    "txt_file.close()\n",
    "\n",
    "\n",
    "# pisanje v datoteke\n",
    "txt_file = open('test.txt', 'w')\n",
    "for i in range(1,11):  #prvih 10 števil\n",
    "    txt_file.write('%s %4d %5.2f \\n' %(str(i), i, i)) # \\n - ubežna sekvenca za novo vrsto\n",
    "txt_file.close()"
   ]
  },
  {
   "cell_type": "code",
   "execution_count": 87,
   "metadata": {
    "collapsed": false
   },
   "outputs": [
    {
     "name": "stdout",
     "output_type": "stream",
     "text": [
      "               maize     wheat    barley  oil-pumpkin  rapeseed  triticale\n",
      "#Plot-x                                                                   \n",
      "2013-04-11  0.386939  0.426478  0.437544     0.558278  0.412477   0.368806\n",
      "2013-05-18  0.269430  0.886469  0.806423     0.148540  0.843133   0.906903\n",
      "2013-06-15  0.566359  0.804668  0.505404     0.315171  0.737747   0.187881\n",
      "2013-07-02  0.796561  0.479092  0.304606     0.378239  0.446004   0.347323\n",
      "2013-07-29  0.739612  0.192265  0.189521     0.514529  0.205573   0.334568\n",
      "2013-08-18  0.562305  0.199794  0.333703     0.486986  0.404198   0.520548\n",
      "2013-09-14  0.470556  0.248142  0.413586     0.342028  0.581292   0.740270\n",
      "2013-10-08  0.310769  0.513812  0.541597     0.251546  0.576223   0.586223\n",
      "2013-10-26  0.399296  0.779830  0.682235     0.797404  0.686735   0.309336\n",
      "#Plot-x\n",
      "2013-04-11    0.386939\n",
      "2013-05-18    0.269430\n",
      "2013-06-15    0.566359\n",
      "2013-07-02    0.796561\n",
      "2013-07-29    0.739612\n",
      "2013-08-18    0.562305\n",
      "2013-09-14    0.470556\n",
      "2013-10-08    0.310769\n",
      "2013-10-26    0.399296\n",
      "Name: maize, dtype: float64\n",
      "#Plot-x\n",
      "2013-04-11    0.386939\n",
      "2013-05-18    0.269430\n",
      "2013-06-15    0.566359\n",
      "2013-07-02    0.796561\n",
      "2013-07-29    0.739612\n",
      "2013-08-18    0.562305\n",
      "2013-09-14    0.470556\n",
      "Name: maize, dtype: float64\n",
      "#Plot-x\n",
      "2013-05-18    0.269430\n",
      "2013-06-15    0.566359\n",
      "Name: maize, dtype: float64\n"
     ]
    }
   ],
   "source": [
    "# branje csv datotek v data frame\n",
    "\n",
    "# za excel datoteke uporabi pd.read_excel\n",
    "ndvi = pd.read_csv('ndvi.txt', header=0, sep=' ', skipinitialspace=True) \n",
    "# časovna vrsta iz iste daoteke\n",
    "ndvi_ts = pd.read_csv('ndvi.txt', header=0, sep=' ', skipinitialspace=True,\n",
    "                     index_col=0, parse_dates=True)\n",
    "print ndvi_ts\n",
    "\n",
    "# izberi vse vnose za koruzo\n",
    "print ndvi_ts['maize']\n",
    "# izberi vse vnose za koruzo do oktobra 2013\n",
    "print ndvi_ts['maize'][ndvi_ts.index < datetime(2013, 10, 1)]\n",
    "# izberi vse vnose za koruzo, kjer ima ppšenica visoko vrednost\n",
    "print ndvi_ts['maize'][ndvi_ts['wheat'] > 0.8]"
   ]
  },
  {
   "cell_type": "code",
   "execution_count": 67,
   "metadata": {
    "collapsed": false
   },
   "outputs": [],
   "source": [
    "# subset slike iz koordinat željenega območja\n",
    "\n",
    "import rasterio\n",
    "\n",
    "# odpri sliko za branje, podatki se še ne preberejo\n",
    "l8 = rasterio.open('p:/Landsat_8_atm/L8_20130415_190028/LC81900282013105LGN01__ms_gk_p2atm.tif', 'r')\n",
    "\n",
    "# koordinate ul in lr ogljišča\n",
    "ul_x_coord = 450000\n",
    "ul_y_coord = 170000\n",
    "\n",
    "lr_x_coord = 500000\n",
    "lr_y_coord = 120000\n",
    "\n",
    "# pretvori v slikovne koordinate\n",
    "ul = l8.index(ul_x_coord, ul_y_coord)\n",
    "lr = l8.index(lr_x_coord, lr_y_coord)\n",
    "\n",
    "# preberi le opazovan del slike\n",
    "# mogoce tocneje ker je zgornja meja ekskluzivna\n",
    "l8_data = l8.read(window=((ul[0], lr[0]+1), (ul[1], lr[1]+1)))\n",
    "\n",
    "l8.close()"
   ]
  },
  {
   "cell_type": "code",
   "execution_count": null,
   "metadata": {
    "collapsed": true
   },
   "outputs": [],
   "source": []
  }
 ],
 "metadata": {
  "kernelspec": {
   "display_name": "Python 2",
   "language": "python",
   "name": "python2"
  },
  "language_info": {
   "codemirror_mode": {
    "name": "ipython",
    "version": 2
   },
   "file_extension": ".py",
   "mimetype": "text/x-python",
   "name": "python",
   "nbconvert_exporter": "python",
   "pygments_lexer": "ipython2",
   "version": "2.7.11"
  }
 },
 "nbformat": 4,
 "nbformat_minor": 0
}
